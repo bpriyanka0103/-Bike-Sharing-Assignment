{
 "cells": [
  {
   "cell_type": "code",
   "execution_count": null,
   "metadata": {},
   "outputs": [],
   "source": [
    "print(\"Bike Assignment\")\n",
    "import warnings\n",
    "warnings.filterwarnings('ignore')"
   ]
  },
  {
   "cell_type": "markdown",
   "metadata": {},
   "source": [
    "Importing required Libraries"
   ]
  },
  {
   "cell_type": "code",
   "execution_count": null,
   "metadata": {},
   "outputs": [],
   "source": [
    "import numpy as np\n",
    "import pandas as pd\n",
    "import matplotlib.pyplot as plt\n",
    "import seaborn as sns\n",
    "from sklearn.model_selection import train_test_split\n",
    "from sklearn.preprocessing import MinMaxScaler\n",
    "from sklearn.feature_selection import RFE\n",
    "from sklearn.linear_model import LinearRegression\n",
    "from statsmodels.stats.outliers_influence import variance_inflation_factor\n",
    "import statsmodels.api as sm\n",
    "from sklearn.metrics import r2_score"
   ]
  },
  {
   "cell_type": "code",
   "execution_count": null,
   "metadata": {},
   "outputs": [],
   "source": [
    "#   Read csv data\n",
    "df = pd.read_csv(\"day.csv\")\n",
    "print(df.head())"
   ]
  },
  {
   "cell_type": "markdown",
   "metadata": {},
   "source": [
    "Finding shape, size and details of data set"
   ]
  },
  {
   "cell_type": "code",
   "execution_count": null,
   "metadata": {},
   "outputs": [],
   "source": [
    "print(df.shape)\n",
    "print(df.info())\n"
   ]
  },
  {
   "cell_type": "code",
   "execution_count": null,
   "metadata": {},
   "outputs": [],
   "source": [
    "df.isnull().sum()"
   ]
  },
  {
   "cell_type": "code",
   "execution_count": null,
   "metadata": {},
   "outputs": [],
   "source": [
    "print(df.describe())\n"
   ]
  },
  {
   "cell_type": "markdown",
   "metadata": {},
   "source": [
    "Renaming columns for better readability"
   ]
  },
  {
   "cell_type": "code",
   "execution_count": null,
   "metadata": {},
   "outputs": [],
   "source": [
    "df.drop(['instant'],axis=1,inplace=True)"
   ]
  },
  {
   "cell_type": "code",
   "execution_count": null,
   "metadata": {},
   "outputs": [],
   "source": [
    "df.drop(['dteday'],axis=1,inplace=True)"
   ]
  },
  {
   "cell_type": "code",
   "execution_count": null,
   "metadata": {},
   "outputs": [],
   "source": [
    "df.drop(['casual'],axis=1,inplace=True)\n",
    "df.drop(['registered'],axis=1,inplace=True)"
   ]
  },
  {
   "cell_type": "code",
   "execution_count": null,
   "metadata": {},
   "outputs": [],
   "source": [
    "df.head()\n",
    "df.info()"
   ]
  },
  {
   "cell_type": "code",
   "execution_count": null,
   "metadata": {},
   "outputs": [],
   "source": [
    "df.describe()"
   ]
  },
  {
   "cell_type": "code",
   "execution_count": null,
   "metadata": {},
   "outputs": [],
   "source": [
    "df[['temp','atemp','hum','windspeed','cnt']].corr()"
   ]
  },
  {
   "cell_type": "code",
   "execution_count": null,
   "metadata": {},
   "outputs": [],
   "source": [
    "# Drop the column \"atemp\" from the DataFrame 'df'\n",
    "df.drop(columns=[\"atemp\"], inplace=True)\n",
    "df.info()"
   ]
  },
  {
   "cell_type": "code",
   "execution_count": null,
   "metadata": {},
   "outputs": [],
   "source": [
    "df['season'] = df['season'].map({1: 'Spring', 2: 'Summer', 3: 'Fall', 4: 'Winter'})\n",
    "df['mnth'] = df['mnth'].map({1: 'January', 2: 'February', 3: 'March', 4: 'April', 5: 'May', 6: 'June', 7: 'July', 8: 'August', 9: 'September', 10: 'October', 11: 'November', 12: 'December'})\n",
    "df['weekday'] = df['weekday'].map({0: 'Sunday', 1: 'Monday', 2: 'Tuesday', 3: 'Wednesday', 4: 'Thursday', 5: 'Friday', 6: 'Saturday'})\n",
    "df['weathersit'] = df['weathersit'].map({\n",
    "    1: 'Clear',\n",
    "    2: 'Cloudy_mist',\n",
    "    3: 'Light_Rain_Thunder',\n",
    "    4: 'Heavy_Rain_thunder'\n",
    "})"
   ]
  },
  {
   "cell_type": "code",
   "execution_count": null,
   "metadata": {},
   "outputs": [],
   "source": [
    "df.head()"
   ]
  },
  {
   "cell_type": "code",
   "execution_count": null,
   "metadata": {},
   "outputs": [],
   "source": [
    "df.info()"
   ]
  },
  {
   "cell_type": "code",
   "execution_count": null,
   "metadata": {},
   "outputs": [],
   "source": [
    "# visualizing variables\n",
    "cat_vars = ['season', 'yr', 'mnth', 'holiday', 'weekday', 'workingday', 'weathersit']\n",
    "\n",
    "plt.figure(figsize=(15, 12))\n",
    "for i, cat_var in enumerate(cat_vars, 1):\n",
    "    plt.subplot(3, 3, i)\n",
    "    df_boxplot = df[['cnt', cat_var]].copy()\n",
    "    df_boxplot[cat_var] = df[cat_var].astype('category')\n",
    "    \n",
    "    sns.boxplot(x=cat_var, y='cnt', data=df_boxplot, width=0.4)\n",
    "    plt.title(f'Boxplot of Bike Rentals by {cat_var}')\n",
    "    plt.xlabel(cat_var)\n",
    "    plt.ylabel('Count of Bike Rentals')\n",
    "    plt.xticks(rotation=90)\n",
    "\n",
    "plt.tight_layout()\n",
    "plt.show()"
   ]
  },
  {
   "cell_type": "markdown",
   "metadata": {},
   "source": [
    "Checking outlier In Spring as we saw in boxplot. Median is around 2000 and 7000> seems like an outlier so we can drop this one row.\n"
   ]
  },
  {
   "cell_type": "code",
   "execution_count": null,
   "metadata": {},
   "outputs": [],
   "source": [
    "# Select rows from DataFrame 'df' where the season is \"Spring\" and cnt is greater than 7000\n",
    "df_filtered = df[(df['season'] == 'Spring') & (df['cnt'] > 7000)]\n",
    "df.shape"
   ]
  },
  {
   "cell_type": "code",
   "execution_count": null,
   "metadata": {},
   "outputs": [],
   "source": [
    "# Dropping cnt > 7000 for spring\n",
    "df.drop(df[(df.season == \"Spring\") & (df.cnt > 7000)].index,inplace=True)\n",
    "# Dropped one row where season was spring and cnt was greater > 7000\n",
    "df.shape"
   ]
  },
  {
   "cell_type": "markdown",
   "metadata": {},
   "source": [
    "Understanding Correlation among categorical and numerical values\n"
   ]
  },
  {
   "cell_type": "code",
   "execution_count": null,
   "metadata": {},
   "outputs": [],
   "source": [
    "df.info()"
   ]
  },
  {
   "cell_type": "code",
   "execution_count": null,
   "metadata": {},
   "outputs": [],
   "source": [
    "df.head()"
   ]
  },
  {
   "cell_type": "code",
   "execution_count": null,
   "metadata": {},
   "outputs": [],
   "source": [
    "# Checking correlation\n",
    "sns.heatmap(df.corr(),cmap=\"YlGnBu\",annot=True)"
   ]
  },
  {
   "cell_type": "code",
   "execution_count": null,
   "metadata": {},
   "outputs": [],
   "source": [
    "sns.pairplot(df,vars=[\"temp\",\"hum\",\"windspeed\",\"cnt\"])"
   ]
  },
  {
   "cell_type": "code",
   "execution_count": null,
   "metadata": {},
   "outputs": [],
   "source": [
    "# creating idummy variables\n",
    "season_dum = pd.get_dummies(df['season'],drop_first=True)\n",
    "mnth_dum = pd.get_dummies(df['mnth'],drop_first=True)\n",
    "weekday_dum = pd.get_dummies(df['weekday'],drop_first=True)\n",
    "weathersit_dum = pd.get_dummies(df['weathersit'],drop_first=True)"
   ]
  },
  {
   "cell_type": "code",
   "execution_count": null,
   "metadata": {},
   "outputs": [],
   "source": [
    "# Adding indicator variable columns to the dataset . Dropping original columns\n",
    "df = pd.concat([df,season_dum,mnth_dum,weekday_dum,weathersit_dum],axis=1)\n",
    "df.drop(columns=['season','mnth','weekday','weathersit'],inplace=True)"
   ]
  },
  {
   "cell_type": "code",
   "execution_count": null,
   "metadata": {},
   "outputs": [],
   "source": [
    "df.shape\n",
    "df.head()\n"
   ]
  },
  {
   "cell_type": "code",
   "execution_count": null,
   "metadata": {},
   "outputs": [],
   "source": [
    "bool_columns = df.select_dtypes(include=['bool']).columns\n",
    "\n",
    "# Convert boolean columns to uint8\n",
    "df[bool_columns] = df[bool_columns].astype('uint8')\n",
    "df.head()\n",
    "df.info()"
   ]
  },
  {
   "cell_type": "code",
   "execution_count": null,
   "metadata": {},
   "outputs": [],
   "source": [
    "df.head()"
   ]
  },
  {
   "cell_type": "code",
   "execution_count": null,
   "metadata": {},
   "outputs": [],
   "source": [
    "# Import the train_test_split function from scikit-learn\n",
    "from sklearn.model_selection import train_test_split\n",
    "\n",
    "# We specify this so that the train and test data set always have the same rows, respectively\n",
    "np.random.seed(30)\n",
    "df_train, df_test = train_test_split(df, train_size = 0.7, test_size = 0.3, random_state = 100)"
   ]
  },
  {
   "cell_type": "code",
   "execution_count": null,
   "metadata": {},
   "outputs": [],
   "source": [
    "df_test.shape\n",
    "df_train.shape"
   ]
  },
  {
   "cell_type": "code",
   "execution_count": null,
   "metadata": {},
   "outputs": [],
   "source": [
    "# Create an instance of the MinMaxScaler class\n",
    "scaler = MinMaxScaler()"
   ]
  },
  {
   "cell_type": "code",
   "execution_count": null,
   "metadata": {},
   "outputs": [],
   "source": [
    "# Apply scaler() to all the columns except the 'yes-no' and 'dummy' variables\n",
    "\n",
    "num_vars = num_vars = ['temp','hum','windspeed']\n",
    "df_train[num_vars] = scaler.fit_transform(df_train[num_vars])"
   ]
  },
  {
   "cell_type": "code",
   "execution_count": null,
   "metadata": {},
   "outputs": [],
   "source": [
    "df_train.head()"
   ]
  },
  {
   "cell_type": "code",
   "execution_count": null,
   "metadata": {},
   "outputs": [],
   "source": [
    "df_train.describe()"
   ]
  },
  {
   "cell_type": "code",
   "execution_count": null,
   "metadata": {},
   "outputs": [],
   "source": [
    "# Let's check the correlation coefficients to see which variables are highly correlated\n",
    "\n",
    "plt.figure(figsize = (40, 30))\n",
    "sns.heatmap(df_train.corr(), annot = True, cmap=\"YlGnBu\")\n",
    "plt.show()"
   ]
  },
  {
   "cell_type": "code",
   "execution_count": null,
   "metadata": {},
   "outputs": [],
   "source": [
    "# Separating the target variable \"cnt\" from the features in the training data\n",
    "y_train = df_train.pop(\"cnt\")\n",
    "x_train = df_train"
   ]
  },
  {
   "cell_type": "markdown",
   "metadata": {},
   "source": [
    "Model 1"
   ]
  },
  {
   "cell_type": "code",
   "execution_count": null,
   "metadata": {},
   "outputs": [],
   "source": [
    "# Import the statsmodels library\n",
    "import statsmodels.api as sm\n",
    "\n",
    "# Add a constant column to the DataFrame 'x_train' containing only the \"temp\" feature\n",
    "x_train_lm = sm.add_constant(x_train[[\"temp\"]])\n",
    "\n",
    "# Fit Ordinary Least Squares (OLS) regression model using statsmodels\n",
    "lr = sm.OLS(y_train, x_train_lm).fit()"
   ]
  },
  {
   "cell_type": "code",
   "execution_count": null,
   "metadata": {},
   "outputs": [],
   "source": [
    "lr.params\n"
   ]
  },
  {
   "cell_type": "code",
   "execution_count": null,
   "metadata": {},
   "outputs": [],
   "source": [
    "print(lr.summary())"
   ]
  },
  {
   "cell_type": "code",
   "execution_count": null,
   "metadata": {},
   "outputs": [],
   "source": [
    "x_train.columns"
   ]
  },
  {
   "cell_type": "markdown",
   "metadata": {},
   "source": [
    "Model 2: Multiiple linear regression model using all variables\n"
   ]
  },
  {
   "cell_type": "code",
   "execution_count": null,
   "metadata": {},
   "outputs": [],
   "source": [
    "# Add a constant column to the DataFrame 'x_train' using statsmodels\n",
    "x_train_lm = sm.add_constant(x_train)\n",
    "\n",
    "# Fit Ordinary Least Squares (OLS) regression model using statsmodels\n",
    "mlr_2 = sm.OLS(y_train, x_train_lm).fit()\n",
    "mlr_2.params"
   ]
  },
  {
   "cell_type": "code",
   "execution_count": null,
   "metadata": {},
   "outputs": [],
   "source": [
    "print(mlr_2.summary())"
   ]
  },
  {
   "cell_type": "markdown",
   "metadata": {},
   "source": [
    "Checking vIF"
   ]
  },
  {
   "cell_type": "code",
   "execution_count": null,
   "metadata": {},
   "outputs": [],
   "source": [
    "# Create a dataframe that will contain the names of all the feature variables and their respective VIFs\n",
    "vif = pd.DataFrame()\n",
    "vif['Features'] = x_train.columns\n",
    "vif['VIF'] = [variance_inflation_factor(x_train.values, i) for i in range(x_train.shape[1])]\n",
    "vif['VIF'] = round(vif['VIF'], 2)\n",
    "vif = vif.sort_values(by = \"VIF\", ascending = False)\n",
    "vif"
   ]
  },
  {
   "cell_type": "code",
   "execution_count": null,
   "metadata": {},
   "outputs": [],
   "source": [
    "# Running RFE with the output number of variables equal to 10\n",
    "lm = LinearRegression()\n",
    "lm.fit(x_train, y_train)\n",
    "\n",
    "# Assuming X_train is your feature matrix\n",
    "rfe = RFE(lm,n_features_to_select=20)              \n",
    "rfe = rfe.fit(x_train, y_train)"
   ]
  },
  {
   "cell_type": "code",
   "execution_count": null,
   "metadata": {},
   "outputs": [],
   "source": [
    "rfe_table=pd.DataFrame(list(zip(x_train.columns,rfe.support_,rfe.ranking_)),columns=[\"Feature\",\"support\",\"Rank\"])\n",
    "rfe_table.sort_values(by=\"Rank\",ascending=True)"
   ]
  },
  {
   "cell_type": "code",
   "execution_count": null,
   "metadata": {},
   "outputs": [],
   "source": [
    "# selecting columns based of RFE\n",
    "selected_features= x_train.columns[rfe.support_]\n",
    "selected_features\n"
   ]
  },
  {
   "cell_type": "code",
   "execution_count": null,
   "metadata": {},
   "outputs": [],
   "source": [
    "#Selecting selected feature for model creation\n",
    "x_train_rfe = x_train[selected_features]"
   ]
  },
  {
   "cell_type": "code",
   "execution_count": null,
   "metadata": {},
   "outputs": [],
   "source": [
    "cols = ['temp', 'atemp', 'hum', 'windspeed']\n",
    "plt.figure(figsize=(18,4))\n",
    "\n",
    "i = 1\n",
    "for col in cols:\n",
    "    plt.subplot(1,4,i)\n",
    "    sns.boxplot(y=col, data=df)\n",
    "    i+=1"
   ]
  },
  {
   "cell_type": "code",
   "execution_count": null,
   "metadata": {},
   "outputs": [],
   "source": [
    "x_train_rfe.head()"
   ]
  },
  {
   "cell_type": "markdown",
   "metadata": {},
   "source": [
    "Model 3: using RFE\n",
    "Adding Selected variables to the model"
   ]
  },
  {
   "cell_type": "code",
   "execution_count": null,
   "metadata": {},
   "outputs": [],
   "source": [
    "# Add a constant column to the DataFrame 'x_train_rfe' using statsmodels\n",
    "x_train_lm = sm.add_constant(x_train_rfe)\n",
    "\n",
    "# Fit Ordinary Least Squares (OLS) regression model using statsmodels\n",
    "mlr_3 = sm.OLS(y_train, x_train_lm).fit()\n",
    "\n",
    "# Print the summary of the regression model\n",
    "print(mlr_3.summary())"
   ]
  },
  {
   "cell_type": "markdown",
   "metadata": {},
   "source": [
    "Checking VIF"
   ]
  },
  {
   "cell_type": "code",
   "execution_count": null,
   "metadata": {},
   "outputs": [],
   "source": [
    "# Create a dataframe that will contain the names of all the feature variables and their respective VIFs\n",
    "vif = pd.DataFrame()\n",
    "vif['Features'] = x_train_rfe.columns\n",
    "vif['VIF'] = [variance_inflation_factor(x_train_rfe.values, i) for i in range(x_train_rfe.shape[1])]\n",
    "vif['VIF'] = round(vif['VIF'], 2)\n",
    "vif = vif.sort_values(by = \"VIF\", ascending = False)\n",
    "vif"
   ]
  },
  {
   "cell_type": "markdown",
   "metadata": {},
   "source": [
    "Model 4:\n",
    "Removing the variable hum based on its Very High 'VIF' va"
   ]
  },
  {
   "cell_type": "code",
   "execution_count": null,
   "metadata": {},
   "outputs": [],
   "source": [
    "# Drop the column \"hum\" from the DataFrame 'x_train_rfe'\n",
    "x_train_rfe.drop([\"hum\"], axis=1, inplace=True)"
   ]
  },
  {
   "cell_type": "code",
   "execution_count": null,
   "metadata": {},
   "outputs": [],
   "source": [
    "# Add a constant column to the DataFrame 'x_train_rfe' using statsmodels\n",
    "x_train_lm = sm.add_constant(x_train_rfe)\n",
    "\n",
    "# Fit Ordinary Least Squares (OLS) regression model using statsmodels\n",
    "mlr_4 = sm.OLS(y_train, x_train_lm).fit()\n",
    "\n",
    "# Print the summary of the regression model\n",
    "print(mlr_4.summary())"
   ]
  },
  {
   "cell_type": "code",
   "execution_count": null,
   "metadata": {},
   "outputs": [],
   "source": [
    "# Create a dataframe that will contain the names of all the feature variables and their respective VIFs\n",
    "vif = pd.DataFrame()\n",
    "vif['Features'] = x_train_rfe.columns\n",
    "vif['VIF'] = [variance_inflation_factor(x_train_rfe.values, i) for i in range(x_train_rfe.shape[1])]\n",
    "vif['VIF'] = round(vif['VIF'], 2)\n",
    "vif = vif.sort_values(by = \"VIF\", ascending = False)\n",
    "vif"
   ]
  },
  {
   "cell_type": "markdown",
   "metadata": {},
   "source": [
    "Model 5"
   ]
  },
  {
   "cell_type": "code",
   "execution_count": null,
   "metadata": {},
   "outputs": [],
   "source": [
    "# Drop the column \"workingday\" from the DataFrame 'x_train_rfe'\n",
    "x_train_rfe.drop([\"workingday\"], axis=1, inplace=True)"
   ]
  },
  {
   "cell_type": "code",
   "execution_count": null,
   "metadata": {},
   "outputs": [],
   "source": [
    "# Add a constant column to the DataFrame 'x_train_rfe' using statsmodels\n",
    "x_train_lm = sm.add_constant(x_train_rfe)\n",
    "\n",
    "# Fit Ordinary Least Squares (OLS) regression model using statsmodels\n",
    "mlr_5 = sm.OLS(y_train, x_train_lm).fit()\n",
    "\n",
    "# Print the summary of the regression model\n",
    "print(mlr_5.summary())"
   ]
  },
  {
   "cell_type": "code",
   "execution_count": null,
   "metadata": {},
   "outputs": [],
   "source": [
    "# Create a dataframe that will contain the names of all the feature variables and their respective VIFs\n",
    "vif = pd.DataFrame()\n",
    "vif['Features'] = x_train_rfe.columns\n",
    "vif['VIF'] = [variance_inflation_factor(x_train_rfe.values, i) for i in range(x_train_rfe.shape[1])]\n",
    "vif['VIF'] = round(vif['VIF'], 2)\n",
    "vif = vif.sort_values(by = \"VIF\", ascending = False)\n",
    "vif"
   ]
  },
  {
   "cell_type": "markdown",
   "metadata": {},
   "source": [
    "Model 6:\n",
    "Removing the variable Summer based on its Very High 'p' value.\n",
    "\n"
   ]
  },
  {
   "cell_type": "code",
   "execution_count": null,
   "metadata": {},
   "outputs": [],
   "source": [
    "# Drop the column \"Summer\" from the DataFrame 'x_train_rfe'\n",
    "x_train_rfe.drop([\"Summer\"], axis=1, inplace=True)\n",
    "# Add a constant column to the DataFrame 'x_train_rfe' using statsmodels\n",
    "x_train_lm = sm.add_constant(x_train_rfe)\n",
    "\n",
    "# Fit Ordinary Least Squares (OLS) regression model using statsmodels\n",
    "mlr_6 = sm.OLS(y_train, x_train_lm).fit()\n",
    "\n",
    "# Print the summary of the regression model\n",
    "print(mlr_6.summary())"
   ]
  },
  {
   "cell_type": "code",
   "execution_count": null,
   "metadata": {},
   "outputs": [],
   "source": [
    "# Create a dataframe that will contain the names of all the feature variables and their respective VIFs\n",
    "vif = pd.DataFrame()\n",
    "vif['Features'] = x_train_rfe.columns\n",
    "vif['VIF'] = [variance_inflation_factor(x_train_rfe.values, i) for i in range(x_train_rfe.shape[1])]\n",
    "vif['VIF'] = round(vif['VIF'], 2)\n",
    "vif = vif.sort_values(by = \"VIF\", ascending = False)\n",
    "vif"
   ]
  },
  {
   "cell_type": "markdown",
   "metadata": {},
   "source": [
    "Model 7:\n",
    "Removing the variable Monday based on its Very High 'p' value.\n",
    "\n"
   ]
  },
  {
   "cell_type": "code",
   "execution_count": null,
   "metadata": {},
   "outputs": [],
   "source": [
    "# Drop the column \"Monday\" from the DataFrame 'x_train_rfe'\n",
    "x_train_rfe.drop([\"Monday\"], axis=1, inplace=True)\n",
    "# Add a constant column to the DataFrame 'x_train_rfe' using statsmodels\n",
    "x_train_lm = sm.add_constant(x_train_rfe)\n",
    "\n",
    "# Fit Ordinary Least Squares (OLS) regression model using statsmodels\n",
    "mlr_7 = sm.OLS(y_train, x_train_lm).fit()\n",
    "\n",
    "# Print the summary of the regression model\n",
    "print(mlr_7.summary())\n"
   ]
  },
  {
   "cell_type": "code",
   "execution_count": null,
   "metadata": {},
   "outputs": [],
   "source": [
    "# Create a dataframe that will contain the names of all the feature variables and their respective VIFs\n",
    "vif = pd.DataFrame()\n",
    "vif['Features'] = x_train_rfe.columns\n",
    "vif['VIF'] = [variance_inflation_factor(x_train_rfe.values, i) for i in range(x_train_rfe.shape[1])]\n",
    "vif['VIF'] = round(vif['VIF'], 2)\n",
    "vif = vif.sort_values(by = \"VIF\", ascending = False)\n",
    "vif"
   ]
  },
  {
   "cell_type": "markdown",
   "metadata": {},
   "source": [
    "Model 8:\n",
    "Removing the variable Saturday based on its Very High 'p' value."
   ]
  },
  {
   "cell_type": "code",
   "execution_count": null,
   "metadata": {},
   "outputs": [],
   "source": [
    "# Drop the column \"Saturday\" from the DataFrame 'x_train_rfe'\n",
    "x_train_rfe.drop([\"Saturday\"], axis=1, inplace=True)\n",
    "# Add a constant column to the DataFrame 'x_train_rfe' using statsmodels\n",
    "x_train_lm = sm.add_constant(x_train_rfe)\n",
    "\n",
    "# Fit Ordinary Least Squares (OLS) regression model using statsmodels\n",
    "mlr_8 = sm.OLS(y_train, x_train_lm).fit()\n",
    "\n",
    "# Print the summary of the regression model\n",
    "print(mlr_8.summary())"
   ]
  },
  {
   "cell_type": "code",
   "execution_count": null,
   "metadata": {},
   "outputs": [],
   "source": [
    "# Create a dataframe that will contain the names of all the feature variables and their respective VIFs\n",
    "vif = pd.DataFrame()\n",
    "vif['Features'] = x_train_rfe.columns\n",
    "vif['VIF'] = [variance_inflation_factor(x_train_rfe.values, i) for i in range(x_train_rfe.shape[1])]\n",
    "vif['VIF'] = round(vif['VIF'], 2)\n",
    "vif = vif.sort_values(by = \"VIF\", ascending = False)\n",
    "vif"
   ]
  },
  {
   "cell_type": "markdown",
   "metadata": {},
   "source": [
    "Model 9:\n",
    "Removing the variable Sunday based on its Very High 'p' value."
   ]
  },
  {
   "cell_type": "code",
   "execution_count": null,
   "metadata": {},
   "outputs": [],
   "source": [
    "# Drop the column \"Sunday\" from the DataFrame 'x_train_rfe'\n",
    "x_train_rfe.drop([\"Sunday\"], axis=1, inplace=True)\n",
    "# Add a constant column to the DataFrame 'x_train_rfe' using statsmodels\n",
    "x_train_lm = sm.add_constant(x_train_rfe)\n",
    "\n",
    "# Fit Ordinary Least Squares (OLS) regression model using statsmodels\n",
    "mlr_9 = sm.OLS(y_train, x_train_lm).fit()\n",
    "\n",
    "# Print the summary of the regression model\n",
    "print(mlr_9.summary())"
   ]
  },
  {
   "cell_type": "code",
   "execution_count": null,
   "metadata": {},
   "outputs": [],
   "source": [
    "# Create a dataframe that will contain the names of all the feature variables and their respective VIFs\n",
    "vif = pd.DataFrame()\n",
    "vif['Features'] = x_train_rfe.columns\n",
    "vif['VIF'] = [variance_inflation_factor(x_train_rfe.values, i) for i in range(x_train_rfe.shape[1])]\n",
    "vif['VIF'] = round(vif['VIF'], 2)\n",
    "vif = vif.sort_values(by = \"VIF\", ascending = False)\n",
    "vif"
   ]
  },
  {
   "cell_type": "markdown",
   "metadata": {},
   "source": [
    "Model 10:\n",
    "Removing the variable May and February based on its Very High 'p' value.\n",
    "\n"
   ]
  },
  {
   "cell_type": "code",
   "execution_count": null,
   "metadata": {},
   "outputs": [],
   "source": [
    "# Drop the columns \"May\" and \"February\" from the DataFrame 'x_train_rfe'\n",
    "x_train_rfe.drop([\"May\", \"February\"], axis=1, inplace=True)\n",
    "# Add a constant column to the DataFrame 'x_train_rfe' using statsmodels\n",
    "x_train_lm = sm.add_constant(x_train_rfe)\n",
    "\n",
    "# Fit Ordinary Least Squares (OLS) regression model using statsmodels\n",
    "mlr_10 = sm.OLS(y_train, x_train_lm).fit()\n",
    "\n",
    "# Print the summary of the regression model\n",
    "print(mlr_10.summary())"
   ]
  },
  {
   "cell_type": "code",
   "execution_count": null,
   "metadata": {},
   "outputs": [],
   "source": [
    "# Create a dataframe that will contain the names of all the feature variables and their respective VIFs\n",
    "vif = pd.DataFrame()\n",
    "vif['Features'] = x_train_rfe.columns\n",
    "vif['VIF'] = [variance_inflation_factor(x_train_rfe.values, i) for i in range(x_train_rfe.shape[1])]\n",
    "vif['VIF'] = round(vif['VIF'], 2)\n",
    "vif = vif.sort_values(by = \"VIF\", ascending = False)\n",
    "vif"
   ]
  },
  {
   "cell_type": "markdown",
   "metadata": {},
   "source": [
    "Model 11:\n",
    "Removing the variable January based on its Very High 'p' value.\n",
    "\n"
   ]
  },
  {
   "cell_type": "code",
   "execution_count": null,
   "metadata": {},
   "outputs": [],
   "source": [
    "# Drop the columns \"January\" from the DataFrame 'x_train_rfe'\n",
    "x_train_rfe.drop([\"January\"], axis=1, inplace=True)\n",
    "# Add a constant column to the DataFrame 'x_train_rfe' using statsmodels\n",
    "x_train_lm = sm.add_constant(x_train_rfe)\n",
    "\n",
    "# Fit Ordinary Least Squares (OLS) regression model using statsmodels\n",
    "mlr_11 = sm.OLS(y_train, x_train_lm).fit()\n",
    "\n",
    "# Print the summary of the regression model\n",
    "print(mlr_11.summary())\n"
   ]
  },
  {
   "cell_type": "markdown",
   "metadata": {},
   "source": [
    "Step 7: Residual Analysis of the train data"
   ]
  },
  {
   "cell_type": "code",
   "execution_count": null,
   "metadata": {},
   "outputs": [],
   "source": [
    "# Add a constant column to the DataFrame 'x_train_rfe' using statsmodels\n",
    "x_train_sm = sm.add_constant(x_train_rfe)\n",
    "# Predict the target variable 'y_train' using the trained regression model 'mlr_11' and the DataFrame 'x_train_sm'\n",
    "y_train_pred = mlr_11.predict(x_train_sm)\n",
    "# Plot the histogram of the error terms\n",
    "fig = plt.figure()\n",
    "sns.distplot((y_train - y_train_pred), bins = 20)\n",
    "fig.suptitle('Error Terms', fontsize = 20)                  # Plot heading \n",
    "plt.xlabel('Errors', fontsize = 18)"
   ]
  },
  {
   "cell_type": "markdown",
   "metadata": {},
   "source": [
    "Step 8: Making Predictions Using the Final Model"
   ]
  },
  {
   "cell_type": "code",
   "execution_count": null,
   "metadata": {},
   "outputs": [],
   "source": [
    "# Apply scaler() to all the columns except the 'yes-no' and 'dummy' variables\n",
    "num_vars = num_vars = ['temp','hum','windspeed']\n",
    "\n",
    "df_test[num_vars] = scaler.fit_transform(df_test[num_vars])\n",
    "df_test.describe()"
   ]
  },
  {
   "cell_type": "code",
   "execution_count": null,
   "metadata": {},
   "outputs": [],
   "source": [
    "y_test = df_test.pop('cnt')\n",
    "x_test = df_test\n",
    "# Adding constant variable to test dataframe\n",
    "x_test_mlr_11 = sm.add_constant(x_test)\n",
    "x_train_rfe.head()"
   ]
  },
  {
   "cell_type": "code",
   "execution_count": null,
   "metadata": {},
   "outputs": [],
   "source": [
    "\n",
    "# checking X_test_mlr_10\n",
    "x_test_mlr_11.head()\n",
    "x_test_mlr_11.info()\n",
    "x_test_mlr_11.shape\n"
   ]
  },
  {
   "cell_type": "code",
   "execution_count": null,
   "metadata": {},
   "outputs": [],
   "source": [
    "# Adding constant variable to test dataframe\n",
    "x_test_mlr_11 = sm.add_constant(x_test)\n",
    "# # Making predictions using the fourth model\n"
   ]
  },
  {
   "cell_type": "code",
   "execution_count": null,
   "metadata": {},
   "outputs": [],
   "source": [
    "x_train_rfe.head()"
   ]
  },
  {
   "cell_type": "code",
   "execution_count": null,
   "metadata": {},
   "outputs": [],
   "source": [
    "x_test_mlr_11_new= x_test_mlr_11[['yr', 'temp', 'windspeed', 'Spring', 'Winter','December','July',\"November\",'September',\n",
    "                            'Cloudy_mist', 'Light_Rain_Thunder']]"
   ]
  },
  {
   "cell_type": "code",
   "execution_count": null,
   "metadata": {},
   "outputs": [],
   "source": [
    "# checking X_test_mlr_10\n",
    "x_test_mlr_11.head()\n",
    "x_test_mlr_11_new.shape"
   ]
  },
  {
   "cell_type": "code",
   "execution_count": null,
   "metadata": {},
   "outputs": [],
   "source": [
    "# Adding constant \n",
    "x_test_mlr_11 = sm.add_constant(x_test_mlr_11)"
   ]
  },
  {
   "cell_type": "code",
   "execution_count": null,
   "metadata": {},
   "outputs": [],
   "source": [
    "x_test_mlr_11.info()\n"
   ]
  },
  {
   "cell_type": "code",
   "execution_count": null,
   "metadata": {},
   "outputs": [],
   "source": [
    "# Making predictions using the fourth model\n",
    "\n",
    "y_test_pred_mlr_11 = mlr_11.predict(x_test_mlr_11)\n"
   ]
  },
  {
   "cell_type": "markdown",
   "metadata": {},
   "source": [
    "Model Evaluation"
   ]
  },
  {
   "cell_type": "code",
   "execution_count": null,
   "metadata": {},
   "outputs": [],
   "source": [
    "# Plotting y_test and y_pred to understand the spread\n",
    "\n",
    "fig = plt.figure()\n",
    "plt.scatter(y_test, y_test_pred_mlr_11)\n",
    "fig.suptitle('y_test vs y_test_pred_mlr_11', fontsize = 20)              # Plot heading \n",
    "plt.xlabel('y_test', fontsize = 18)                          # X-label\n",
    "plt.ylabel('y_pred_mlr_11', fontsize = 16)"
   ]
  },
  {
   "cell_type": "code",
   "execution_count": null,
   "metadata": {},
   "outputs": [],
   "source": [
    "# Plotting Actual vs Predicted \n",
    "fig,ax = plt.subplots()\n",
    "fig.set_figheight(8)\n",
    "fig.set_figwidth(20)\n",
    "l1,=ax.plot(range(len(y_test)),y_test)\n",
    "l2, = ax.plot(range(len(y_test_pred_mlr_11)),y_test_pred_mlr_11)\n",
    "plt.legend([l1,l2],['Actual','Predicted'])\n",
    "plt.title('Predicted vs Actual No of CNT');\n",
    "plt.ylabel('No of Bike Rentals')\n",
    "plt.xticks([])\n",
    "plt.show()"
   ]
  },
  {
   "cell_type": "code",
   "execution_count": null,
   "metadata": {},
   "outputs": [],
   "source": [
    "# Visualizing the fit on the test data\n",
    "# plotting a Regression plot\n",
    "\n",
    "plt.figure()\n",
    "sns.regplot(x=y_test, y=y_test_pred_mlr_11, ci=68, fit_reg=True,scatter_kws={\"color\": \"blue\"}, line_kws={\"color\": \"red\"})\n",
    "plt.title('y_test vs y_test_pred_mlr_11', fontsize=20)\n",
    "plt.xlabel('y_test', fontsize=18)\n",
    "plt.ylabel('y_pred', fontsize=16)\n",
    "plt.show()"
   ]
  },
  {
   "cell_type": "code",
   "execution_count": null,
   "metadata": {},
   "outputs": [],
   "source": [
    "# CHECKING R SQUARED VALUE FOR TRAIN AND TEST DATA # CHECKING R SQUARED VALUE FOR TRAIN AND TEST DATA \n",
    "from sklearn.metrics import mean_squared_error,r2_score\n",
    "\n",
    "mse = np.sqrt(mean_squared_error(y_test, y_test_pred_mlr_11))\n",
    "rsquared_test = r2_score(y_test, y_test_pred_mlr_11)\n",
    "rsquared_train = r2_score(y_train, y_train_pred)\n",
    "print('R-squared for train data:',rsquared_train)\n",
    "print('R-squared for test data:',rsquared_test)\n",
    "print('Mean Squared Error',round(mse,3))\n",
    "\n",
    "mse = np.sqrt(mean_squared_error(y_test, y_test_pred_mlr_11))\n",
    "rsquared_test = r2_score(y_test, y_test_pred_mlr_11)\n",
    "rsquared_train = r2_score(y_train, y_train_pred)\n",
    "print('R-squared for train data:',rsquared_train)\n",
    "print('R-squared for test data:',rsquared_test)\n",
    "print('Mean Squared Error',round(mse,3))\n"
   ]
  },
  {
   "cell_type": "markdown",
   "metadata": {},
   "source": [
    "R-squared for train data: 0.8421579512778632\n",
    "R-squared for test data: 0.7912052419702504\n",
    "Mean Squared Error 844.87\n"
   ]
  },
  {
   "cell_type": "code",
   "execution_count": null,
   "metadata": {},
   "outputs": [],
   "source": [
    "#Calculate the r square for test\n",
    "\n",
    "r_squared = r2_score(y_test, y_test_pred_mlr_11)\n",
    "r_squared"
   ]
  },
  {
   "cell_type": "markdown",
   "metadata": {},
   "source": [
    "Value comes out to 0.7912052419702504"
   ]
  },
  {
   "cell_type": "code",
   "execution_count": null,
   "metadata": {},
   "outputs": [],
   "source": [
    "mlr_10.params.to_frame()"
   ]
  }
 ],
 "metadata": {
  "kernelspec": {
   "display_name": "base",
   "language": "python",
   "name": "python3"
  },
  "language_info": {
   "codemirror_mode": {
    "name": "ipython",
    "version": 3
   },
   "file_extension": ".py",
   "mimetype": "text/x-python",
   "name": "python",
   "nbconvert_exporter": "python",
   "pygments_lexer": "ipython3",
   "version": "3.11.7"
  }
 },
 "nbformat": 4,
 "nbformat_minor": 2
}
